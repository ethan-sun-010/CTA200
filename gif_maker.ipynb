{
 "cells": [
  {
   "cell_type": "code",
   "execution_count": null,
   "metadata": {},
   "outputs": [],
   "source": [
    "\n"
   ]
  },
  {
   "cell_type": "code",
   "execution_count": 14,
   "metadata": {},
   "outputs": [
    {
     "data": {
      "image/png": "[encoded data removed]",
      "text/plain": [
       "<Figure size 432x288 with 1 Axes>"
      ]
     },
     "metadata": {
      "needs_background": "light"
     },
     "output_type": "display_data"
    }
   ],
   "source": [
    "import h5py\n",
    "import pylab\n",
    "import numpy as np\n",
    "import imageio\n",
    "import glob\n",
    "\n",
    "\n",
    "for filename in glob.glob('*.h5'):\n",
    "    data = h5py.File(filename,'r')\n",
    "    pylab.tricontourf(data['geometry']['x_coordinate'], data['geometry']['y_coordinate'], data['hydrodynamic']['density'])\n",
    "    pylab.xlim(-1.0,3.0)\n",
    "    pylab.ylim(-2.0,2.0)\n",
    "    png_name = str(filename).replace('h5','png')\n",
    "    pylab.savefig(png_name)\n"
   ]
  },
  {
   "cell_type": "code",
   "execution_count": 40,
   "metadata": {},
   "outputs": [],
   "source": [
    "import imageio\n",
    "images = []\n",
    "for png_name in sorted(glob.glob('snapshot_?.png')):\n",
    "    images.append(imageio.imread(str(png_name)))\n",
    "    \n",
    "for png_name in sorted(glob.glob('snapshot_??.png')):\n",
    "    images.append(imageio.imread(str(png_name)))\n",
    "\n",
    "for png_name in sorted(glob.glob('snapshot_???.png')):\n",
    "    images.append(imageio.imread(str(png_name)))\n",
    "    \n",
    "for png_name in sorted(glob.glob('final.png')):\n",
    "    images.append(imageio.imread(str(png_name)))\n",
    "    \n",
    "for png_name in sorted(glob.glob('initial.png')):\n",
    "    images.insert(0,imageio.imread(str(png_name)))\n",
    "    \n",
    "imageio.mimsave('test_complete.gif', images)\n",
    "\n"
   ]
  },
  {
   "cell_type": "code",
   "execution_count": 5,
   "metadata": {},
   "outputs": [],
   "source": []
  },
  {
   "cell_type": "code",
   "execution_count": null,
   "metadata": {},
   "outputs": [],
   "source": []
  }
 ],
 "metadata": {
  "kernelspec": {
   "display_name": "Python 3",
   "language": "python",
   "name": "python3"
  },
  "language_info": {
   "codemirror_mode": {
    "name": "ipython",
    "version": 3
   },
   "file_extension": ".py",
   "mimetype": "text/x-python",
   "name": "python",
   "nbconvert_exporter": "python",
   "pygments_lexer": "ipython3",
   "version": "3.7.3"
  }
 },
 "nbformat": 4,
 "nbformat_minor": 2
}
